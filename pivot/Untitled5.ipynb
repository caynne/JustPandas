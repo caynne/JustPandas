{
 "cells": [
  {
   "cell_type": "code",
   "execution_count": 101,
   "metadata": {
    "collapsed": true
   },
   "outputs": [],
   "source": [
    "# -*- encoding:utf-8 -*-\n",
    "#有中文出现的情况，需要u'内容'\n",
    "import json\n",
    "import codecs\n",
    "import sys\n",
    "import PIL\n",
    "import numpy as np\n",
    "import matplotlib.pyplot as plt\n",
    "import pandas as pd\n",
    "from configparser import ConfigParser\n",
    "import sys\n",
    "import cv2\n",
    "import os\n",
    "reload(sys)\n",
    "sys.setdefaultencoding('utf-8')"
   ]
  },
  {
   "cell_type": "code",
   "execution_count": 431,
   "metadata": {
    "collapsed": false,
    "scrolled": true
   },
   "outputs": [],
   "source": [
    "#读入文件（我这台windows），目前这种方法不会有乱码。\n",
    "f = codecs.open(u'F:\\code\\pivot\\资源统计表V1(2017.02.02--2017.03.01)utf8.txt',\"r\",\"utf8\") \n",
    "#pd1 = pd.read_csv(filepath_or_buffer = u'F:\\code\\pivot\\data1.csv',encoding='utf8',skip_footer =4,header=8,engine='python')\n",
    "df = pd.read_csv(filepath_or_buffer = f,encoding='utf8',engine='python',sep='\\t',skip_footer=1)"
   ]
  },
  {
   "cell_type": "code",
   "execution_count": 485,
   "metadata": {
    "collapsed": false
   },
   "outputs": [],
   "source": [
    "list = ['taylor','cookie','jerry','star','vincent','yuria','lemon','phoebe']\n",
    "frame = []\n",
    "for item in list:\n",
    "    subDf = df[df[u'推广员'].str.lower().str.startswith(item).fillna(False)]\n",
    "    subDf[u'推广员'] = item\n",
    "    frame.append(subDf)\n",
    "result = pd.concat(frame)"
   ]
  },
  {
   "cell_type": "code",
   "execution_count": 494,
   "metadata": {
    "collapsed": false
   },
   "outputs": [],
   "source": [
    "#增加一列，方便做透视表。因为pivote在values跟columns是同一字段时会报错。\n",
    "result[u'统计首次拨打日期'] = result[u'首次拨打日期']\n",
    "\n",
    "#增加“修改首次拨打日期”列，因为按照需求，需要将“首次拨打日期”里的时间提前一天\n",
    "def base_year(year):\n",
    "    base_year = pd.Period(year)-1\n",
    "    return base_year\n",
    "result[u'修改首次拨打日期'] = result[u'首次拨打日期'].apply(base_year)\n",
    "\n",
    "#生成透视表\n",
    "pivotTable = pd.pivot_table(result,index=[u\"推广员\"],columns=[u'修改首次拨打日期'],values=[u'统计首次拨打日期'],aggfunc=u'count',fill_value=0)\n",
    "pivotTable.to_csv(u'F:/code/pivot/result.csv',mode='a',encoding ='gbk',sep=',')"
   ]
  }
 ],
 "metadata": {
  "anaconda-cloud": {},
  "kernelspec": {
   "display_name": "Python [Root]",
   "language": "python",
   "name": "Python [Root]"
  },
  "language_info": {
   "codemirror_mode": {
    "name": "ipython",
    "version": 2
   },
   "file_extension": ".py",
   "mimetype": "text/x-python",
   "name": "python",
   "nbconvert_exporter": "python",
   "pygments_lexer": "ipython2",
   "version": "2.7.12"
  }
 },
 "nbformat": 4,
 "nbformat_minor": 0
}
